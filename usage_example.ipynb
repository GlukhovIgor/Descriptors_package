{
  "nbformat": 4,
  "nbformat_minor": 0,
  "metadata": {
    "colab": {
      "provenance": [],
      "collapsed_sections": [
        "LTUp-k_iqGzk"
      ]
    },
    "kernelspec": {
      "name": "python3",
      "display_name": "Python 3"
    },
    "language_info": {
      "name": "python"
    }
  },
  "cells": [
    {
      "cell_type": "code",
      "source": [
        "import biodescriptors\n",
        "from biodescriptors.calc import DescCalculator\n",
        "from biodescriptors.calc import calc_COM_protein"
      ],
      "metadata": {
        "id": "E_zmG2qEhP_L"
      },
      "execution_count": 1,
      "outputs": []
    },
    {
      "cell_type": "code",
      "source": [
        "hvdr_dir = '/test_data/input_data/hVDR'\n",
        "rvdr_dir = '/test_data/input_data/rVDR'\n",
        "zvdr_dir = '/test_data/input_data/zVDR'"
      ],
      "metadata": {
        "id": "4MvdtPG2qVVN"
      },
      "execution_count": 2,
      "outputs": []
    },
    {
      "cell_type": "code",
      "source": [
        "href = [[127,142], [149,152], [226,246], [257,265], [268, 278], [298,302], [308,322], [328,338], [350,369], [379,396], [397,406], [411,413], [417,423]]\n",
        "zref = [[159,174], [181, 184], [254,274], [285, 293], [295,303], [326, 330], [336,350], [356,366], [378,397], [405,422], [423, 432], [435,439], [443, 447]]\n",
        "rref = [[127,142], [149,152], [222,242], [253,262], [263, 273], [294,298], [304,318], [324,334], [346,365], [376,392], [393,402], [405,409], [413,418]]\n",
        "\n",
        "clamp_resid_h = [246, 264, 420]\n",
        "clamp_resid_r = [242, 260, 416]\n",
        "clamp_resid_z = [274, 292, 446]"
      ],
      "metadata": {
        "id": "qQ9PGq5OEkiA"
      },
      "execution_count": 3,
      "outputs": []
    },
    {
      "cell_type": "code",
      "source": [
        "# one descriptor calculation for a single file\n",
        "\n",
        "df_com_protein = calc_COM_protein('/content/drive/My Drive/Descriptors/Datasets/pdb_prep/hVDR/1DB1_-_minimized.pdb')\n",
        "df_com_protein"
      ],
      "metadata": {
        "colab": {
          "base_uri": "https://localhost:8080/"
        },
        "id": "M9KTkW6_QXQJ",
        "outputId": "bbc05d04-cbb4-484f-829d-2d2a34dfe157"
      },
      "execution_count": 5,
      "outputs": [
        {
          "output_type": "execute_result",
          "data": {
            "text/plain": [
              "[13.355506056027753, 20.772715184669302, 42.01449399765416]"
            ]
          },
          "metadata": {},
          "execution_count": 5
        }
      ]
    },
    {
      "cell_type": "code",
      "source": [
        "# full calculation for a batch of files\n",
        "\n",
        "desc_config = {'descriptors': \n",
        "          ['prot_hel_dist',\n",
        "           'pairwise_sep_dist',\n",
        "           'com_calpha_angles',\n",
        "           'len_of_hel',\n",
        "           'angles_between_hel',\n",
        "           'com_clamp',\n",
        "           'charge_clamp_dist',\n",
        "           'charge_clamp_angles',\n",
        "           'acc_per_hel',\n",
        "           'sse_content',\n",
        "           'dssp_hel', \n",
        "           'dssp_extra'\n",
        "          ]\n",
        "         }\n",
        "\n",
        "calculator = DescCalculator(href, clamp_resid_h, config=desc_config)"
      ],
      "metadata": {
        "id": "jrBqa0b3Fki0"
      },
      "execution_count": 6,
      "outputs": []
    },
    {
      "cell_type": "code",
      "source": [
        "df_hprep = calculator.calc_all(hvdr_dir, save_to_csv=False, parallel=False)"
      ],
      "metadata": {
        "colab": {
          "base_uri": "https://localhost:8080/"
        },
        "id": "-aCf0MJrFlK6",
        "outputId": "475b2162-68cb-4d80-c617-164fa1528536"
      },
      "execution_count": 8,
      "outputs": [
        {
          "output_type": "stream",
          "name": "stderr",
          "text": [
            "\r  0%|          | 0/45 [00:00<?, ?it/s]"
          ]
        },
        {
          "output_type": "stream",
          "name": "stdout",
          "text": [
            "calculating structure - /content/drive/My Drive/Descriptors/Datasets/pdb_prep/hVDR/1DB1_-_minimized.pdb\n"
          ]
        },
        {
          "output_type": "stream",
          "name": "stderr",
          "text": [
            "\r  2%|▏         | 1/45 [00:01<01:25,  1.94s/it]"
          ]
        },
        {
          "output_type": "stream",
          "name": "stdout",
          "text": [
            "calculating structure - /content/drive/My Drive/Descriptors/Datasets/pdb_prep/hVDR/1IE9_-_minimized.pdb\n"
          ]
        },
        {
          "output_type": "stream",
          "name": "stderr",
          "text": [
            "\r  4%|▍         | 2/45 [00:05<01:52,  2.61s/it]"
          ]
        },
        {
          "output_type": "stream",
          "name": "stdout",
          "text": [
            "calculating structure - /content/drive/My Drive/Descriptors/Datasets/pdb_prep/hVDR/1IE8_-_minimized.pdb\n"
          ]
        },
        {
          "output_type": "stream",
          "name": "stderr",
          "text": [
            "\r  7%|▋         | 3/45 [00:07<01:48,  2.59s/it]"
          ]
        },
        {
          "output_type": "stream",
          "name": "stdout",
          "text": [
            "calculating structure - /content/drive/My Drive/Descriptors/Datasets/pdb_prep/hVDR/1S19_-_minimized.pdb\n"
          ]
        },
        {
          "output_type": "stream",
          "name": "stderr",
          "text": [
            "\r  9%|▉         | 4/45 [00:10<01:50,  2.69s/it]"
          ]
        },
        {
          "output_type": "stream",
          "name": "stdout",
          "text": [
            "calculating structure - /content/drive/My Drive/Descriptors/Datasets/pdb_prep/hVDR/1TXI_-_minimized.pdb\n"
          ]
        },
        {
          "output_type": "stream",
          "name": "stderr",
          "text": [
            "\r 11%|█         | 5/45 [00:13<01:53,  2.84s/it]"
          ]
        },
        {
          "output_type": "stream",
          "name": "stdout",
          "text": [
            "calculating structure - /content/drive/My Drive/Descriptors/Datasets/pdb_prep/hVDR/1S0Z_-_minimized.pdb\n"
          ]
        },
        {
          "output_type": "stream",
          "name": "stderr",
          "text": [
            "\r 13%|█▎        | 6/45 [00:16<01:54,  2.94s/it]"
          ]
        },
        {
          "output_type": "stream",
          "name": "stdout",
          "text": [
            "calculating structure - /content/drive/My Drive/Descriptors/Datasets/pdb_prep/hVDR/2HAM_-_minimized.pdb\n"
          ]
        },
        {
          "output_type": "stream",
          "name": "stderr",
          "text": [
            "\r 16%|█▌        | 7/45 [00:19<01:53,  2.98s/it]"
          ]
        },
        {
          "output_type": "stream",
          "name": "stdout",
          "text": [
            "calculating structure - /content/drive/My Drive/Descriptors/Datasets/pdb_prep/hVDR/2HAR_-_minimized.pdb\n"
          ]
        },
        {
          "output_type": "stream",
          "name": "stderr",
          "text": [
            "\r 18%|█▊        | 8/45 [00:22<01:46,  2.89s/it]"
          ]
        },
        {
          "output_type": "stream",
          "name": "stdout",
          "text": [
            "calculating structure - /content/drive/My Drive/Descriptors/Datasets/pdb_prep/hVDR/2HB7_-_minimized.pdb\n"
          ]
        },
        {
          "output_type": "stream",
          "name": "stderr",
          "text": [
            "\r 20%|██        | 9/45 [00:25<01:46,  2.95s/it]"
          ]
        },
        {
          "output_type": "stream",
          "name": "stdout",
          "text": [
            "calculating structure - /content/drive/My Drive/Descriptors/Datasets/pdb_prep/hVDR/2HAS_-_minimized.pdb\n"
          ]
        },
        {
          "output_type": "stream",
          "name": "stderr",
          "text": [
            "\r 22%|██▏       | 10/45 [00:28<01:44,  2.99s/it]"
          ]
        },
        {
          "output_type": "stream",
          "name": "stdout",
          "text": [
            "calculating structure - /content/drive/My Drive/Descriptors/Datasets/pdb_prep/hVDR/3A2I_-_minimized.pdb\n"
          ]
        },
        {
          "output_type": "stream",
          "name": "stderr",
          "text": [
            "\r 24%|██▍       | 11/45 [00:31<01:39,  2.92s/it]"
          ]
        },
        {
          "output_type": "stream",
          "name": "stdout",
          "text": [
            "calculating structure - /content/drive/My Drive/Descriptors/Datasets/pdb_prep/hVDR/3A2J_-_minimized.pdb\n"
          ]
        },
        {
          "output_type": "stream",
          "name": "stderr",
          "text": [
            "\r 27%|██▋       | 12/45 [00:34<01:36,  2.92s/it]"
          ]
        },
        {
          "output_type": "stream",
          "name": "stdout",
          "text": [
            "calculating structure - /content/drive/My Drive/Descriptors/Datasets/pdb_prep/hVDR/2HB8_-_minimized.pdb\n"
          ]
        },
        {
          "output_type": "stream",
          "name": "stderr",
          "text": [
            "\r 29%|██▉       | 13/45 [00:36<01:30,  2.83s/it]"
          ]
        },
        {
          "output_type": "stream",
          "name": "stdout",
          "text": [
            "calculating structure - /content/drive/My Drive/Descriptors/Datasets/pdb_prep/hVDR/3AUQ_-_minimized.pdb\n"
          ]
        },
        {
          "output_type": "stream",
          "name": "stderr",
          "text": [
            "\r 31%|███       | 14/45 [00:39<01:29,  2.89s/it]"
          ]
        },
        {
          "output_type": "stream",
          "name": "stdout",
          "text": [
            "calculating structure - /content/drive/My Drive/Descriptors/Datasets/pdb_prep/hVDR/3A78_-_minimized.pdb\n"
          ]
        },
        {
          "output_type": "stream",
          "name": "stderr",
          "text": [
            "\r 33%|███▎      | 15/45 [00:42<01:26,  2.88s/it]"
          ]
        },
        {
          "output_type": "stream",
          "name": "stdout",
          "text": [
            "calculating structure - /content/drive/My Drive/Descriptors/Datasets/pdb_prep/hVDR/3AX8_-_minimized.pdb\n"
          ]
        },
        {
          "output_type": "stream",
          "name": "stderr",
          "text": [
            "\r 36%|███▌      | 16/45 [00:45<01:26,  2.98s/it]"
          ]
        },
        {
          "output_type": "stream",
          "name": "stdout",
          "text": [
            "calculating structure - /content/drive/My Drive/Descriptors/Datasets/pdb_prep/hVDR/3AUR_-_minimized.pdb\n"
          ]
        },
        {
          "output_type": "stream",
          "name": "stderr",
          "text": [
            "\r 38%|███▊      | 17/45 [00:49<01:28,  3.15s/it]"
          ]
        },
        {
          "output_type": "stream",
          "name": "stdout",
          "text": [
            "calculating structure - /content/drive/My Drive/Descriptors/Datasets/pdb_prep/hVDR/3AZ2_-_minimized.pdb\n"
          ]
        },
        {
          "output_type": "stream",
          "name": "stderr",
          "text": [
            "\r 40%|████      | 18/45 [00:52<01:20,  2.98s/it]"
          ]
        },
        {
          "output_type": "stream",
          "name": "stdout",
          "text": [
            "calculating structure - /content/drive/My Drive/Descriptors/Datasets/pdb_prep/hVDR/3AZ1_-_minimized.pdb\n"
          ]
        },
        {
          "output_type": "stream",
          "name": "stderr",
          "text": [
            "\r 42%|████▏     | 19/45 [00:54<01:15,  2.92s/it]"
          ]
        },
        {
          "output_type": "stream",
          "name": "stdout",
          "text": [
            "calculating structure - /content/drive/My Drive/Descriptors/Datasets/pdb_prep/hVDR/3B0T_-_minimized.pdb\n"
          ]
        },
        {
          "output_type": "stream",
          "name": "stderr",
          "text": [
            "\r 44%|████▍     | 20/45 [00:58<01:14,  3.00s/it]"
          ]
        },
        {
          "output_type": "stream",
          "name": "stdout",
          "text": [
            "calculating structure - /content/drive/My Drive/Descriptors/Datasets/pdb_prep/hVDR/3CS4_-_minimized.pdb\n"
          ]
        },
        {
          "output_type": "stream",
          "name": "stderr",
          "text": [
            "\r 47%|████▋     | 21/45 [01:00<01:10,  2.92s/it]"
          ]
        },
        {
          "output_type": "stream",
          "name": "stdout",
          "text": [
            "calculating structure - /content/drive/My Drive/Descriptors/Datasets/pdb_prep/hVDR/3CS6_-_minimized.pdb\n"
          ]
        },
        {
          "output_type": "stream",
          "name": "stderr",
          "text": [
            "\r 49%|████▉     | 22/45 [01:03<01:04,  2.82s/it]"
          ]
        },
        {
          "output_type": "stream",
          "name": "stdout",
          "text": [
            "calculating structure - /content/drive/My Drive/Descriptors/Datasets/pdb_prep/hVDR/3KPZ_-_minimized.pdb\n"
          ]
        },
        {
          "output_type": "stream",
          "name": "stderr",
          "text": [
            "\r 51%|█████     | 23/45 [01:06<01:01,  2.79s/it]"
          ]
        },
        {
          "output_type": "stream",
          "name": "stdout",
          "text": [
            "calculating structure - /content/drive/My Drive/Descriptors/Datasets/pdb_prep/hVDR/3M7R_-_minimized.pdb\n"
          ]
        },
        {
          "output_type": "stream",
          "name": "stderr",
          "text": [
            "\r 53%|█████▎    | 24/45 [01:08<00:58,  2.78s/it]"
          ]
        },
        {
          "output_type": "stream",
          "name": "stdout",
          "text": [
            "calculating structure - /content/drive/My Drive/Descriptors/Datasets/pdb_prep/hVDR/3OGT_-_minimized.pdb\n"
          ]
        },
        {
          "output_type": "stream",
          "name": "stderr",
          "text": [
            "\r 56%|█████▌    | 25/45 [01:12<00:58,  2.91s/it]"
          ]
        },
        {
          "output_type": "stream",
          "name": "stdout",
          "text": [
            "calculating structure - /content/drive/My Drive/Descriptors/Datasets/pdb_prep/hVDR/3TKC_-_minimized.pdb\n"
          ]
        },
        {
          "output_type": "stream",
          "name": "stderr",
          "text": [
            "\r 58%|█████▊    | 26/45 [01:15<00:56,  2.98s/it]"
          ]
        },
        {
          "output_type": "stream",
          "name": "stdout",
          "text": [
            "calculating structure - /content/drive/My Drive/Descriptors/Datasets/pdb_prep/hVDR/3P8X_-_minimized.pdb\n"
          ]
        },
        {
          "output_type": "stream",
          "name": "stderr",
          "text": [
            "\r 60%|██████    | 27/45 [01:17<00:52,  2.92s/it]"
          ]
        },
        {
          "output_type": "stream",
          "name": "stdout",
          "text": [
            "calculating structure - /content/drive/My Drive/Descriptors/Datasets/pdb_prep/hVDR/3W0A_-_minimized.pdb\n"
          ]
        },
        {
          "output_type": "stream",
          "name": "stderr",
          "text": [
            "\r 62%|██████▏   | 28/45 [01:20<00:49,  2.93s/it]"
          ]
        },
        {
          "output_type": "stream",
          "name": "stdout",
          "text": [
            "calculating structure - /content/drive/My Drive/Descriptors/Datasets/pdb_prep/hVDR/3VHW_-_minimized.pdb\n"
          ]
        },
        {
          "output_type": "stream",
          "name": "stderr",
          "text": [
            "\r 64%|██████▍   | 29/45 [01:23<00:46,  2.89s/it]"
          ]
        },
        {
          "output_type": "stream",
          "name": "stdout",
          "text": [
            "calculating structure - /content/drive/My Drive/Descriptors/Datasets/pdb_prep/hVDR/3W0C_-_minimized.pdb\n"
          ]
        },
        {
          "output_type": "stream",
          "name": "stderr",
          "text": [
            "\r 67%|██████▋   | 30/45 [01:26<00:44,  2.94s/it]"
          ]
        },
        {
          "output_type": "stream",
          "name": "stdout",
          "text": [
            "calculating structure - /content/drive/My Drive/Descriptors/Datasets/pdb_prep/hVDR/3W0Y_-_minimized.pdb\n"
          ]
        },
        {
          "output_type": "stream",
          "name": "stderr",
          "text": [
            "\r 69%|██████▉   | 31/45 [01:29<00:41,  2.93s/it]"
          ]
        },
        {
          "output_type": "stream",
          "name": "stdout",
          "text": [
            "calculating structure - /content/drive/My Drive/Descriptors/Datasets/pdb_prep/hVDR/3WGP_-_minimized.pdb\n"
          ]
        },
        {
          "output_type": "stream",
          "name": "stderr",
          "text": [
            "\r 71%|███████   | 32/45 [01:32<00:37,  2.89s/it]"
          ]
        },
        {
          "output_type": "stream",
          "name": "stdout",
          "text": [
            "calculating structure - /content/drive/My Drive/Descriptors/Datasets/pdb_prep/hVDR/3WWR_-_minimized.pdb\n"
          ]
        },
        {
          "output_type": "stream",
          "name": "stderr",
          "text": [
            "\r 73%|███████▎  | 33/45 [01:35<00:33,  2.79s/it]"
          ]
        },
        {
          "output_type": "stream",
          "name": "stdout",
          "text": [
            "calculating structure - /content/drive/My Drive/Descriptors/Datasets/pdb_prep/hVDR/3X31_-_minimized.pdb\n"
          ]
        },
        {
          "output_type": "stream",
          "name": "stderr",
          "text": [
            "\r 76%|███████▌  | 34/45 [01:37<00:30,  2.76s/it]"
          ]
        },
        {
          "output_type": "stream",
          "name": "stdout",
          "text": [
            "calculating structure - /content/drive/My Drive/Descriptors/Datasets/pdb_prep/hVDR/3X36_-_minimized.pdb\n"
          ]
        },
        {
          "output_type": "stream",
          "name": "stderr",
          "text": [
            "\r 78%|███████▊  | 35/45 [01:40<00:27,  2.77s/it]"
          ]
        },
        {
          "output_type": "stream",
          "name": "stdout",
          "text": [
            "calculating structure - /content/drive/My Drive/Descriptors/Datasets/pdb_prep/hVDR/4ITE_-_minimized.pdb\n"
          ]
        },
        {
          "output_type": "stream",
          "name": "stderr",
          "text": [
            "\r 80%|████████  | 36/45 [01:43<00:24,  2.74s/it]"
          ]
        },
        {
          "output_type": "stream",
          "name": "stdout",
          "text": [
            "calculating structure - /content/drive/My Drive/Descriptors/Datasets/pdb_prep/hVDR/4G2I_-_minimized.pdb\n"
          ]
        },
        {
          "output_type": "stream",
          "name": "stderr",
          "text": [
            "\r 82%|████████▏ | 37/45 [01:45<00:21,  2.70s/it]"
          ]
        },
        {
          "output_type": "stream",
          "name": "stdout",
          "text": [
            "calculating structure - /content/drive/My Drive/Descriptors/Datasets/pdb_prep/hVDR/4ITF_-_minimized.pdb\n"
          ]
        },
        {
          "output_type": "stream",
          "name": "stderr",
          "text": [
            "\r 84%|████████▍ | 38/45 [01:49<00:20,  2.87s/it]"
          ]
        },
        {
          "output_type": "stream",
          "name": "stdout",
          "text": [
            "calculating structure - /content/drive/My Drive/Descriptors/Datasets/pdb_prep/hVDR/5V39_-_minimized.pdb\n"
          ]
        },
        {
          "output_type": "stream",
          "name": "stderr",
          "text": [
            "\r 87%|████████▋ | 39/45 [01:51<00:16,  2.83s/it]"
          ]
        },
        {
          "output_type": "stream",
          "name": "stdout",
          "text": [
            "calculating structure - /content/drive/My Drive/Descriptors/Datasets/pdb_prep/hVDR/5GT4_-_minimized.pdb\n"
          ]
        },
        {
          "output_type": "stream",
          "name": "stderr",
          "text": [
            "\r 89%|████████▉ | 40/45 [01:54<00:13,  2.76s/it]"
          ]
        },
        {
          "output_type": "stream",
          "name": "stdout",
          "text": [
            "calculating structure - /content/drive/My Drive/Descriptors/Datasets/pdb_prep/hVDR/5YSY_-_minimized.pdb\n"
          ]
        },
        {
          "output_type": "stream",
          "name": "stderr",
          "text": [
            "\r 91%|█████████ | 41/45 [01:57<00:10,  2.74s/it]"
          ]
        },
        {
          "output_type": "stream",
          "name": "stdout",
          "text": [
            "calculating structure - /content/drive/My Drive/Descriptors/Datasets/pdb_prep/hVDR/5YT2_-_minimized.pdb\n"
          ]
        },
        {
          "output_type": "stream",
          "name": "stderr",
          "text": [
            "\r 93%|█████████▎| 42/45 [02:00<00:08,  2.84s/it]"
          ]
        },
        {
          "output_type": "stream",
          "name": "stdout",
          "text": [
            "calculating structure - /content/drive/My Drive/Descriptors/Datasets/pdb_prep/hVDR/3A3Z_-_minimized.pdb\n"
          ]
        },
        {
          "output_type": "stream",
          "name": "stderr",
          "text": [
            "\r 96%|█████████▌| 43/45 [02:03<00:05,  2.86s/it]"
          ]
        },
        {
          "output_type": "stream",
          "name": "stdout",
          "text": [
            "calculating structure - /content/drive/My Drive/Descriptors/Datasets/pdb_prep/hVDR/3A40_-_minimized.pdb\n"
          ]
        },
        {
          "output_type": "stream",
          "name": "stderr",
          "text": [
            "\r 98%|█████████▊| 44/45 [02:06<00:02,  2.96s/it]"
          ]
        },
        {
          "output_type": "stream",
          "name": "stdout",
          "text": [
            "calculating structure - /content/drive/My Drive/Descriptors/Datasets/pdb_prep/hVDR/3AZ3_-_minimized.pdb\n"
          ]
        },
        {
          "output_type": "stream",
          "name": "stderr",
          "text": [
            "100%|██████████| 45/45 [02:08<00:00,  2.87s/it]\n"
          ]
        }
      ]
    },
    {
      "cell_type": "code",
      "source": [
        "# some sanitization\n",
        "\n",
        "df_hprep['prot_name'] = df_hprep['prot_name'].map(lambda x: x.replace('_-_minimized.pdb', ''))\n",
        "df_hprep = df_hprep.rename(columns={\"prot_name\": \"Entry ID\"})\n",
        "df_hprep=df_hprep.sort_values(by=['Entry ID'])"
      ],
      "metadata": {
        "id": "yJKUwYmMFlSG"
      },
      "execution_count": null,
      "outputs": []
    },
    {
      "cell_type": "code",
      "source": [
        "df_hprep.head(5)"
      ],
      "metadata": {
        "colab": {
          "base_uri": "https://localhost:8080/",
          "height": 297
        },
        "id": "LElDRQQrO8a0",
        "outputId": "836355bf-3fa0-451d-a472-eb82b68db1d0"
      },
      "execution_count": null,
      "outputs": [
        {
          "output_type": "execute_result",
          "data": {
            "text/plain": [
              "   index  frame  Dist prot-H1  Dist prot-H2  Dist prot-H3  Dist prot-H4  \\\n",
              "5      5      0     18.061242     19.786662      8.749428     16.622712   \n",
              "1      1      1     17.784434     19.300373      8.941045     16.760980   \n",
              "2      2      2     17.433875     19.136867      8.963895     16.732696   \n",
              "4      4      3     17.310935     19.462922      8.725669     16.919229   \n",
              "0      0      4     17.587983     19.520701      8.482062     17.397643   \n",
              "\n",
              "   Dist prot-H5  Dist prot-H6  Dist prot-H7  Dist prot-H8  ...  DSSP end_H5  \\\n",
              "5      4.837412     21.196592     15.978509     11.459879  ...          370   \n",
              "1      4.757205     21.144842     15.588612     11.520989  ...          369   \n",
              "2      4.715189     20.937686     15.708233     11.405678  ...          369   \n",
              "4      4.487870     20.509940     15.703208     11.265904  ...          369   \n",
              "0      4.462605     21.203987     15.630771     11.572978  ...          369   \n",
              "\n",
              "   DSSP end_H6  DSSP end_H7  DSSP end_H8  DSSP end_H9  DSSP end_H10  \\\n",
              "5          379          396          397          406           410   \n",
              "1          379          396          397          404           410   \n",
              "2          379          396          397          404           410   \n",
              "4          379          396          397          405           410   \n",
              "0          379          396          397          406           411   \n",
              "\n",
              "   DSSP end_H11  DSSP end_H12  DSSP end_H13  N_res extra helical  \n",
              "5           413           418           421                    7  \n",
              "1           413           418           420                   11  \n",
              "2           413           418           421                   13  \n",
              "4           413           418           421                   10  \n",
              "0           413           418           421                   10  \n",
              "\n",
              "[5 rows x 254 columns]"
            ],
            "text/html": [
              "\n",
              "  <div id=\"df-b7127098-7a10-4b01-b6ae-e674904264bc\">\n",
              "    <div class=\"colab-df-container\">\n",
              "      <div>\n",
              "<style scoped>\n",
              "    .dataframe tbody tr th:only-of-type {\n",
              "        vertical-align: middle;\n",
              "    }\n",
              "\n",
              "    .dataframe tbody tr th {\n",
              "        vertical-align: top;\n",
              "    }\n",
              "\n",
              "    .dataframe thead th {\n",
              "        text-align: right;\n",
              "    }\n",
              "</style>\n",
              "<table border=\"1\" class=\"dataframe\">\n",
              "  <thead>\n",
              "    <tr style=\"text-align: right;\">\n",
              "      <th></th>\n",
              "      <th>index</th>\n",
              "      <th>frame</th>\n",
              "      <th>Dist prot-H1</th>\n",
              "      <th>Dist prot-H2</th>\n",
              "      <th>Dist prot-H3</th>\n",
              "      <th>Dist prot-H4</th>\n",
              "      <th>Dist prot-H5</th>\n",
              "      <th>Dist prot-H6</th>\n",
              "      <th>Dist prot-H7</th>\n",
              "      <th>Dist prot-H8</th>\n",
              "      <th>...</th>\n",
              "      <th>DSSP end_H5</th>\n",
              "      <th>DSSP end_H6</th>\n",
              "      <th>DSSP end_H7</th>\n",
              "      <th>DSSP end_H8</th>\n",
              "      <th>DSSP end_H9</th>\n",
              "      <th>DSSP end_H10</th>\n",
              "      <th>DSSP end_H11</th>\n",
              "      <th>DSSP end_H12</th>\n",
              "      <th>DSSP end_H13</th>\n",
              "      <th>N_res extra helical</th>\n",
              "    </tr>\n",
              "  </thead>\n",
              "  <tbody>\n",
              "    <tr>\n",
              "      <th>5</th>\n",
              "      <td>5</td>\n",
              "      <td>0</td>\n",
              "      <td>18.061242</td>\n",
              "      <td>19.786662</td>\n",
              "      <td>8.749428</td>\n",
              "      <td>16.622712</td>\n",
              "      <td>4.837412</td>\n",
              "      <td>21.196592</td>\n",
              "      <td>15.978509</td>\n",
              "      <td>11.459879</td>\n",
              "      <td>...</td>\n",
              "      <td>370</td>\n",
              "      <td>379</td>\n",
              "      <td>396</td>\n",
              "      <td>397</td>\n",
              "      <td>406</td>\n",
              "      <td>410</td>\n",
              "      <td>413</td>\n",
              "      <td>418</td>\n",
              "      <td>421</td>\n",
              "      <td>7</td>\n",
              "    </tr>\n",
              "    <tr>\n",
              "      <th>1</th>\n",
              "      <td>1</td>\n",
              "      <td>1</td>\n",
              "      <td>17.784434</td>\n",
              "      <td>19.300373</td>\n",
              "      <td>8.941045</td>\n",
              "      <td>16.760980</td>\n",
              "      <td>4.757205</td>\n",
              "      <td>21.144842</td>\n",
              "      <td>15.588612</td>\n",
              "      <td>11.520989</td>\n",
              "      <td>...</td>\n",
              "      <td>369</td>\n",
              "      <td>379</td>\n",
              "      <td>396</td>\n",
              "      <td>397</td>\n",
              "      <td>404</td>\n",
              "      <td>410</td>\n",
              "      <td>413</td>\n",
              "      <td>418</td>\n",
              "      <td>420</td>\n",
              "      <td>11</td>\n",
              "    </tr>\n",
              "    <tr>\n",
              "      <th>2</th>\n",
              "      <td>2</td>\n",
              "      <td>2</td>\n",
              "      <td>17.433875</td>\n",
              "      <td>19.136867</td>\n",
              "      <td>8.963895</td>\n",
              "      <td>16.732696</td>\n",
              "      <td>4.715189</td>\n",
              "      <td>20.937686</td>\n",
              "      <td>15.708233</td>\n",
              "      <td>11.405678</td>\n",
              "      <td>...</td>\n",
              "      <td>369</td>\n",
              "      <td>379</td>\n",
              "      <td>396</td>\n",
              "      <td>397</td>\n",
              "      <td>404</td>\n",
              "      <td>410</td>\n",
              "      <td>413</td>\n",
              "      <td>418</td>\n",
              "      <td>421</td>\n",
              "      <td>13</td>\n",
              "    </tr>\n",
              "    <tr>\n",
              "      <th>4</th>\n",
              "      <td>4</td>\n",
              "      <td>3</td>\n",
              "      <td>17.310935</td>\n",
              "      <td>19.462922</td>\n",
              "      <td>8.725669</td>\n",
              "      <td>16.919229</td>\n",
              "      <td>4.487870</td>\n",
              "      <td>20.509940</td>\n",
              "      <td>15.703208</td>\n",
              "      <td>11.265904</td>\n",
              "      <td>...</td>\n",
              "      <td>369</td>\n",
              "      <td>379</td>\n",
              "      <td>396</td>\n",
              "      <td>397</td>\n",
              "      <td>405</td>\n",
              "      <td>410</td>\n",
              "      <td>413</td>\n",
              "      <td>418</td>\n",
              "      <td>421</td>\n",
              "      <td>10</td>\n",
              "    </tr>\n",
              "    <tr>\n",
              "      <th>0</th>\n",
              "      <td>0</td>\n",
              "      <td>4</td>\n",
              "      <td>17.587983</td>\n",
              "      <td>19.520701</td>\n",
              "      <td>8.482062</td>\n",
              "      <td>17.397643</td>\n",
              "      <td>4.462605</td>\n",
              "      <td>21.203987</td>\n",
              "      <td>15.630771</td>\n",
              "      <td>11.572978</td>\n",
              "      <td>...</td>\n",
              "      <td>369</td>\n",
              "      <td>379</td>\n",
              "      <td>396</td>\n",
              "      <td>397</td>\n",
              "      <td>406</td>\n",
              "      <td>411</td>\n",
              "      <td>413</td>\n",
              "      <td>418</td>\n",
              "      <td>421</td>\n",
              "      <td>10</td>\n",
              "    </tr>\n",
              "  </tbody>\n",
              "</table>\n",
              "<p>5 rows × 254 columns</p>\n",
              "</div>\n",
              "      <button class=\"colab-df-convert\" onclick=\"convertToInteractive('df-b7127098-7a10-4b01-b6ae-e674904264bc')\"\n",
              "              title=\"Convert this dataframe to an interactive table.\"\n",
              "              style=\"display:none;\">\n",
              "        \n",
              "  <svg xmlns=\"http://www.w3.org/2000/svg\" height=\"24px\"viewBox=\"0 0 24 24\"\n",
              "       width=\"24px\">\n",
              "    <path d=\"M0 0h24v24H0V0z\" fill=\"none\"/>\n",
              "    <path d=\"M18.56 5.44l.94 2.06.94-2.06 2.06-.94-2.06-.94-.94-2.06-.94 2.06-2.06.94zm-11 1L8.5 8.5l.94-2.06 2.06-.94-2.06-.94L8.5 2.5l-.94 2.06-2.06.94zm10 10l.94 2.06.94-2.06 2.06-.94-2.06-.94-.94-2.06-.94 2.06-2.06.94z\"/><path d=\"M17.41 7.96l-1.37-1.37c-.4-.4-.92-.59-1.43-.59-.52 0-1.04.2-1.43.59L10.3 9.45l-7.72 7.72c-.78.78-.78 2.05 0 2.83L4 21.41c.39.39.9.59 1.41.59.51 0 1.02-.2 1.41-.59l7.78-7.78 2.81-2.81c.8-.78.8-2.07 0-2.86zM5.41 20L4 18.59l7.72-7.72 1.47 1.35L5.41 20z\"/>\n",
              "  </svg>\n",
              "      </button>\n",
              "      \n",
              "  <style>\n",
              "    .colab-df-container {\n",
              "      display:flex;\n",
              "      flex-wrap:wrap;\n",
              "      gap: 12px;\n",
              "    }\n",
              "\n",
              "    .colab-df-convert {\n",
              "      background-color: #E8F0FE;\n",
              "      border: none;\n",
              "      border-radius: 50%;\n",
              "      cursor: pointer;\n",
              "      display: none;\n",
              "      fill: #1967D2;\n",
              "      height: 32px;\n",
              "      padding: 0 0 0 0;\n",
              "      width: 32px;\n",
              "    }\n",
              "\n",
              "    .colab-df-convert:hover {\n",
              "      background-color: #E2EBFA;\n",
              "      box-shadow: 0px 1px 2px rgba(60, 64, 67, 0.3), 0px 1px 3px 1px rgba(60, 64, 67, 0.15);\n",
              "      fill: #174EA6;\n",
              "    }\n",
              "\n",
              "    [theme=dark] .colab-df-convert {\n",
              "      background-color: #3B4455;\n",
              "      fill: #D2E3FC;\n",
              "    }\n",
              "\n",
              "    [theme=dark] .colab-df-convert:hover {\n",
              "      background-color: #434B5C;\n",
              "      box-shadow: 0px 1px 3px 1px rgba(0, 0, 0, 0.15);\n",
              "      filter: drop-shadow(0px 1px 2px rgba(0, 0, 0, 0.3));\n",
              "      fill: #FFFFFF;\n",
              "    }\n",
              "  </style>\n",
              "\n",
              "      <script>\n",
              "        const buttonEl =\n",
              "          document.querySelector('#df-b7127098-7a10-4b01-b6ae-e674904264bc button.colab-df-convert');\n",
              "        buttonEl.style.display =\n",
              "          google.colab.kernel.accessAllowed ? 'block' : 'none';\n",
              "\n",
              "        async function convertToInteractive(key) {\n",
              "          const element = document.querySelector('#df-b7127098-7a10-4b01-b6ae-e674904264bc');\n",
              "          const dataTable =\n",
              "            await google.colab.kernel.invokeFunction('convertToInteractive',\n",
              "                                                     [key], {});\n",
              "          if (!dataTable) return;\n",
              "\n",
              "          const docLinkHtml = 'Like what you see? Visit the ' +\n",
              "            '<a target=\"_blank\" href=https://colab.research.google.com/notebooks/data_table.ipynb>data table notebook</a>'\n",
              "            + ' to learn more about interactive tables.';\n",
              "          element.innerHTML = '';\n",
              "          dataTable['output_type'] = 'display_data';\n",
              "          await google.colab.output.renderOutput(dataTable, element);\n",
              "          const docLink = document.createElement('div');\n",
              "          docLink.innerHTML = docLinkHtml;\n",
              "          element.appendChild(docLink);\n",
              "        }\n",
              "      </script>\n",
              "    </div>\n",
              "  </div>\n",
              "  "
            ]
          },
          "metadata": {},
          "execution_count": 65
        }
      ]
    },
    {
      "cell_type": "code",
      "source": [
        "df_hprep.to_csv('test_data/output_data/test-pdbprep-human.csv')"
      ],
      "metadata": {
        "id": "4ovTTkI2aXQr"
      },
      "execution_count": null,
      "outputs": []
    }
  ]
}