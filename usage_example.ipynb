{
 "cells": [
  {
   "cell_type": "code",
   "execution_count": 1,
   "id": "e2e95b58",
   "metadata": {},
   "outputs": [],
   "source": [
    "filedir = 'test_data/input_data/TX-PGC1-L3-100pdb/'\n",
    "output_filename = 'test_data/output_data/1st_test.csv'\n",
    "config_path = 'configs/desc_config.yml'"
   ]
  },
  {
   "cell_type": "code",
   "execution_count": 2,
   "id": "4126b8aa",
   "metadata": {},
   "outputs": [],
   "source": [
    "clamp_resid = [246, 264, 420]\n",
    "href = [[127,142], [149,152], [226,246], [257,265], [268, 278], [298,302], [308,322], [328,338], [350,369], [379,396], [397,406], [411,413], [417,423]]"
   ]
  },
  {
   "cell_type": "markdown",
   "id": "8918dc6a",
   "metadata": {},
   "source": [
    "# 1) single descriptor function for single file"
   ]
  },
  {
   "cell_type": "code",
   "execution_count": 3,
   "id": "58a3d87c",
   "metadata": {},
   "outputs": [],
   "source": [
    "from biodescriptors.calc import calc_COM_protein"
   ]
  },
  {
   "cell_type": "code",
   "execution_count": 4,
   "id": "af2166f6",
   "metadata": {},
   "outputs": [
    {
     "name": "stdout",
     "output_type": "stream",
     "text": [
      "CPU times: user 62.5 ms, sys: 15.6 ms, total: 78.1 ms\n",
      "Wall time: 82.1 ms\n"
     ]
    }
   ],
   "source": [
    "%%time\n",
    "df_com_protein = calc_COM_protein('test_data/input_data/TX-PGC1-L3-100pdb/TX-PGC1-L3-auto_0.pdb')"
   ]
  },
  {
   "cell_type": "code",
   "execution_count": 5,
   "id": "f6804e4a",
   "metadata": {},
   "outputs": [
    {
     "data": {
      "text/plain": [
       "[0.04539215875281678, 0.08702205649887824, -0.15437526106351596]"
      ]
     },
     "execution_count": 5,
     "metadata": {},
     "output_type": "execute_result"
    }
   ],
   "source": [
    "df_com_protein"
   ]
  },
  {
   "cell_type": "markdown",
   "id": "d9a5ac77",
   "metadata": {},
   "source": [
    "# 2) Using DescCalculator class for working with multiple descriptors and multiple files"
   ]
  },
  {
   "cell_type": "markdown",
   "id": "509465d6",
   "metadata": {},
   "source": [
    "### initialize DescCalculator using config from file:"
   ]
  },
  {
   "cell_type": "code",
   "execution_count": 6,
   "id": "be097cc1",
   "metadata": {},
   "outputs": [],
   "source": [
    "from biodescriptors.calc import DescCalculator"
   ]
  },
  {
   "cell_type": "code",
   "execution_count": 7,
   "id": "65f6a443",
   "metadata": {},
   "outputs": [],
   "source": [
    "calculator = DescCalculator(href, clamp_resid, config=config_path)"
   ]
  },
  {
   "cell_type": "markdown",
   "id": "430e23cc",
   "metadata": {},
   "source": [
    "### initialize DescCalculator using config from dict:"
   ]
  },
  {
   "cell_type": "code",
   "execution_count": 8,
   "id": "d2a3b3d0",
   "metadata": {},
   "outputs": [],
   "source": [
    "desc_config = {'descriptors': \n",
    "          ['prot_hel_dist',\n",
    "           'pairwise_sep_dist',\n",
    "           'com_calpha_angles',\n",
    "           'len_of_hel',\n",
    "           'angles_between_hel',\n",
    "           'com_clamp',\n",
    "           'charge_clamp_dist',\n",
    "           'charge_clamp_angles',\n",
    "           'acc_per_hel',\n",
    "           'dssp_hel',\n",
    "           'sse_content',\n",
    "           'dssp_extra'\n",
    "          ]\n",
    "         }"
   ]
  },
  {
   "cell_type": "code",
   "execution_count": 9,
   "id": "fbc38ec2",
   "metadata": {},
   "outputs": [],
   "source": [
    "calculator = DescCalculator(href, clamp_resid, config=desc_config)"
   ]
  },
  {
   "cell_type": "markdown",
   "id": "8b62faea",
   "metadata": {},
   "source": [
    "### calculating all descriptors for all files in a folder"
   ]
  },
  {
   "cell_type": "code",
   "execution_count": 10,
   "id": "31e9eac5",
   "metadata": {
    "scrolled": true
   },
   "outputs": [
    {
     "name": "stderr",
     "output_type": "stream",
     "text": [
      "100%|█████████████████████████████████████████████████████████████████████████████████| 101/101 [00:35<00:00,  2.81it/s]"
     ]
    },
    {
     "name": "stdout",
     "output_type": "stream",
     "text": [
      "CPU times: user 344 ms, sys: 203 ms, total: 547 ms\n",
      "Wall time: 36.2 s\n"
     ]
    },
    {
     "name": "stderr",
     "output_type": "stream",
     "text": [
      "\n"
     ]
    }
   ],
   "source": [
    "%%time\n",
    "\n",
    "df_final = calculator.calc_all(filedir, save_to_csv=True, output_full_path=output_filename)"
   ]
  },
  {
   "cell_type": "code",
   "execution_count": 12,
   "id": "65d1d59e",
   "metadata": {},
   "outputs": [
    {
     "data": {
      "text/html": [
       "<div>\n",
       "<style scoped>\n",
       "    .dataframe tbody tr th:only-of-type {\n",
       "        vertical-align: middle;\n",
       "    }\n",
       "\n",
       "    .dataframe tbody tr th {\n",
       "        vertical-align: top;\n",
       "    }\n",
       "\n",
       "    .dataframe thead th {\n",
       "        text-align: right;\n",
       "    }\n",
       "</style>\n",
       "<table border=\"1\" class=\"dataframe\">\n",
       "  <thead>\n",
       "    <tr style=\"text-align: right;\">\n",
       "      <th></th>\n",
       "      <th>prot_name</th>\n",
       "      <th>Dist prot-H1</th>\n",
       "      <th>Dist prot-H2</th>\n",
       "      <th>Dist prot-H3</th>\n",
       "      <th>Dist prot-H4</th>\n",
       "      <th>Dist prot-H5</th>\n",
       "      <th>Dist prot-H6</th>\n",
       "      <th>Dist prot-H7</th>\n",
       "      <th>Dist prot-H8</th>\n",
       "      <th>Dist prot-H9</th>\n",
       "      <th>...</th>\n",
       "      <th>DSSP end_H13</th>\n",
       "      <th>SSE Helix</th>\n",
       "      <th>SSE Beta bridge</th>\n",
       "      <th>SSE Strand</th>\n",
       "      <th>SSE Helix-3</th>\n",
       "      <th>SSE Helix-5</th>\n",
       "      <th>SSE Turn</th>\n",
       "      <th>SSE Bend</th>\n",
       "      <th>SSE Other</th>\n",
       "      <th>N_res extra helical</th>\n",
       "    </tr>\n",
       "  </thead>\n",
       "  <tbody>\n",
       "    <tr>\n",
       "      <th>0</th>\n",
       "      <td>TX-PGC1-L3-auto_0.pdb</td>\n",
       "      <td>17.577474</td>\n",
       "      <td>19.254317</td>\n",
       "      <td>8.821219</td>\n",
       "      <td>17.643768</td>\n",
       "      <td>4.770519</td>\n",
       "      <td>20.394447</td>\n",
       "      <td>15.734116</td>\n",
       "      <td>11.140125</td>\n",
       "      <td>21.329677</td>\n",
       "      <td>...</td>\n",
       "      <td>421</td>\n",
       "      <td>55.677656</td>\n",
       "      <td>0.0</td>\n",
       "      <td>2.564103</td>\n",
       "      <td>5.494505</td>\n",
       "      <td>0.0</td>\n",
       "      <td>12.454212</td>\n",
       "      <td>7.692308</td>\n",
       "      <td>16.117216</td>\n",
       "      <td>7</td>\n",
       "    </tr>\n",
       "    <tr>\n",
       "      <th>1</th>\n",
       "      <td>TX-PGC1-L3-auto_1.pdb</td>\n",
       "      <td>17.629041</td>\n",
       "      <td>19.198641</td>\n",
       "      <td>8.750823</td>\n",
       "      <td>17.599245</td>\n",
       "      <td>4.714666</td>\n",
       "      <td>21.074910</td>\n",
       "      <td>15.659704</td>\n",
       "      <td>11.008578</td>\n",
       "      <td>21.882887</td>\n",
       "      <td>...</td>\n",
       "      <td>0</td>\n",
       "      <td>53.113553</td>\n",
       "      <td>0.0</td>\n",
       "      <td>2.564103</td>\n",
       "      <td>6.227106</td>\n",
       "      <td>0.0</td>\n",
       "      <td>15.750916</td>\n",
       "      <td>7.326007</td>\n",
       "      <td>15.018315</td>\n",
       "      <td>7</td>\n",
       "    </tr>\n",
       "    <tr>\n",
       "      <th>2</th>\n",
       "      <td>TX-PGC1-L3-auto_10.pdb</td>\n",
       "      <td>17.784991</td>\n",
       "      <td>19.971850</td>\n",
       "      <td>8.956559</td>\n",
       "      <td>16.855837</td>\n",
       "      <td>5.175343</td>\n",
       "      <td>21.154648</td>\n",
       "      <td>16.253411</td>\n",
       "      <td>10.961085</td>\n",
       "      <td>21.545229</td>\n",
       "      <td>...</td>\n",
       "      <td>421</td>\n",
       "      <td>56.043956</td>\n",
       "      <td>0.0</td>\n",
       "      <td>2.930403</td>\n",
       "      <td>7.326007</td>\n",
       "      <td>0.0</td>\n",
       "      <td>11.355311</td>\n",
       "      <td>6.593407</td>\n",
       "      <td>15.750916</td>\n",
       "      <td>6</td>\n",
       "    </tr>\n",
       "    <tr>\n",
       "      <th>3</th>\n",
       "      <td>TX-PGC1-L3-auto_100.pdb</td>\n",
       "      <td>17.437419</td>\n",
       "      <td>19.054584</td>\n",
       "      <td>9.546895</td>\n",
       "      <td>16.912886</td>\n",
       "      <td>4.634557</td>\n",
       "      <td>20.938353</td>\n",
       "      <td>15.911956</td>\n",
       "      <td>10.411964</td>\n",
       "      <td>20.727360</td>\n",
       "      <td>...</td>\n",
       "      <td>421</td>\n",
       "      <td>55.677656</td>\n",
       "      <td>0.0</td>\n",
       "      <td>2.564103</td>\n",
       "      <td>4.395604</td>\n",
       "      <td>0.0</td>\n",
       "      <td>14.285714</td>\n",
       "      <td>7.692308</td>\n",
       "      <td>15.384615</td>\n",
       "      <td>4</td>\n",
       "    </tr>\n",
       "    <tr>\n",
       "      <th>4</th>\n",
       "      <td>TX-PGC1-L3-auto_11.pdb</td>\n",
       "      <td>18.272128</td>\n",
       "      <td>19.374784</td>\n",
       "      <td>9.107679</td>\n",
       "      <td>16.969807</td>\n",
       "      <td>5.038555</td>\n",
       "      <td>21.366447</td>\n",
       "      <td>15.548858</td>\n",
       "      <td>11.011326</td>\n",
       "      <td>21.543426</td>\n",
       "      <td>...</td>\n",
       "      <td>421</td>\n",
       "      <td>54.578755</td>\n",
       "      <td>0.0</td>\n",
       "      <td>2.564103</td>\n",
       "      <td>4.395604</td>\n",
       "      <td>0.0</td>\n",
       "      <td>15.750916</td>\n",
       "      <td>5.860806</td>\n",
       "      <td>16.849817</td>\n",
       "      <td>6</td>\n",
       "    </tr>\n",
       "  </tbody>\n",
       "</table>\n",
       "<p>5 rows × 253 columns</p>\n",
       "</div>"
      ],
      "text/plain": [
       "                 prot_name  Dist prot-H1  Dist prot-H2  Dist prot-H3  \\\n",
       "0    TX-PGC1-L3-auto_0.pdb     17.577474     19.254317      8.821219   \n",
       "1    TX-PGC1-L3-auto_1.pdb     17.629041     19.198641      8.750823   \n",
       "2   TX-PGC1-L3-auto_10.pdb     17.784991     19.971850      8.956559   \n",
       "3  TX-PGC1-L3-auto_100.pdb     17.437419     19.054584      9.546895   \n",
       "4   TX-PGC1-L3-auto_11.pdb     18.272128     19.374784      9.107679   \n",
       "\n",
       "   Dist prot-H4  Dist prot-H5  Dist prot-H6  Dist prot-H7  Dist prot-H8  \\\n",
       "0     17.643768      4.770519     20.394447     15.734116     11.140125   \n",
       "1     17.599245      4.714666     21.074910     15.659704     11.008578   \n",
       "2     16.855837      5.175343     21.154648     16.253411     10.961085   \n",
       "3     16.912886      4.634557     20.938353     15.911956     10.411964   \n",
       "4     16.969807      5.038555     21.366447     15.548858     11.011326   \n",
       "\n",
       "   Dist prot-H9  ...  DSSP end_H13  SSE Helix  SSE Beta bridge  SSE Strand  \\\n",
       "0     21.329677  ...           421  55.677656              0.0    2.564103   \n",
       "1     21.882887  ...             0  53.113553              0.0    2.564103   \n",
       "2     21.545229  ...           421  56.043956              0.0    2.930403   \n",
       "3     20.727360  ...           421  55.677656              0.0    2.564103   \n",
       "4     21.543426  ...           421  54.578755              0.0    2.564103   \n",
       "\n",
       "   SSE Helix-3  SSE Helix-5   SSE Turn  SSE Bend  SSE Other  \\\n",
       "0     5.494505          0.0  12.454212  7.692308  16.117216   \n",
       "1     6.227106          0.0  15.750916  7.326007  15.018315   \n",
       "2     7.326007          0.0  11.355311  6.593407  15.750916   \n",
       "3     4.395604          0.0  14.285714  7.692308  15.384615   \n",
       "4     4.395604          0.0  15.750916  5.860806  16.849817   \n",
       "\n",
       "   N_res extra helical  \n",
       "0                    7  \n",
       "1                    7  \n",
       "2                    6  \n",
       "3                    4  \n",
       "4                    6  \n",
       "\n",
       "[5 rows x 253 columns]"
      ]
     },
     "execution_count": 12,
     "metadata": {},
     "output_type": "execute_result"
    }
   ],
   "source": [
    "df_final.head()"
   ]
  },
  {
   "cell_type": "code",
   "execution_count": 13,
   "id": "cd50ee0f",
   "metadata": {},
   "outputs": [
    {
     "data": {
      "text/plain": [
       "(101, 253)"
      ]
     },
     "execution_count": 13,
     "metadata": {},
     "output_type": "execute_result"
    }
   ],
   "source": [
    "df_final.shape"
   ]
  },
  {
   "cell_type": "code",
   "execution_count": null,
   "id": "97395c08",
   "metadata": {},
   "outputs": [],
   "source": []
  }
 ],
 "metadata": {
  "kernelspec": {
   "display_name": "Python 3 (ipykernel)",
   "language": "python",
   "name": "python3"
  },
  "language_info": {
   "codemirror_mode": {
    "name": "ipython",
    "version": 3
   },
   "file_extension": ".py",
   "mimetype": "text/x-python",
   "name": "python",
   "nbconvert_exporter": "python",
   "pygments_lexer": "ipython3",
   "version": "3.8.10"
  }
 },
 "nbformat": 4,
 "nbformat_minor": 5
}
