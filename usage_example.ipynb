{
 "cells": [
  {
   "cell_type": "code",
   "execution_count": 2,
   "id": "729f8e80",
   "metadata": {},
   "outputs": [],
   "source": [
    "import biodescriptors"
   ]
  },
  {
   "cell_type": "code",
   "execution_count": 3,
   "id": "e2e95b58",
   "metadata": {},
   "outputs": [],
   "source": [
    "filedir = 'test_data/input_data/TX-PGC1-L3-100pdb/'\n",
    "output_filename = 'test_data/output_data/1st_test.csv'"
   ]
  },
  {
   "cell_type": "code",
   "execution_count": 4,
   "id": "4126b8aa",
   "metadata": {},
   "outputs": [],
   "source": [
    "clamp_resid = [246, 264, 420]\n",
    "href = [[127,142], [149,152], [226,246], [257,265], [268, 278], [298,302], [308,322], [328,338], [350,369], [379,396], [397,406], [411,413], [417,423]]"
   ]
  },
  {
   "cell_type": "markdown",
   "id": "8918dc6a",
   "metadata": {},
   "source": [
    "# single descriptor function for single file"
   ]
  },
  {
   "cell_type": "code",
   "execution_count": 6,
   "id": "af2166f6",
   "metadata": {},
   "outputs": [
    {
     "name": "stdout",
     "output_type": "stream",
     "text": [
      "Wall time: 80.8 ms\n"
     ]
    }
   ],
   "source": [
    "%%time\n",
    "df_com_protein = biodescriptors.calc.calc_COM_protein('test_data/input_data/TX-PGC1-L3-100pdb/TX-PGC1-L3-auto_0.pdb')"
   ]
  },
  {
   "cell_type": "code",
   "execution_count": 7,
   "id": "f6804e4a",
   "metadata": {},
   "outputs": [
    {
     "data": {
      "text/plain": [
       "[0.04539215875281678, 0.08702205649887824, -0.15437526106351596]"
      ]
     },
     "execution_count": 7,
     "metadata": {},
     "output_type": "execute_result"
    }
   ],
   "source": [
    "df_com_protein"
   ]
  },
  {
   "cell_type": "markdown",
   "id": "8b62faea",
   "metadata": {},
   "source": [
    "### calculating all descriptors for all files in a folder"
   ]
  },
  {
   "cell_type": "code",
   "execution_count": 8,
   "id": "31e9eac5",
   "metadata": {
    "scrolled": false
   },
   "outputs": [
    {
     "name": "stdout",
     "output_type": "stream",
     "text": [
      "calculating 1 out of 101, structure - TX-PGC1-L3-auto_0.pdb\n"
     ]
    },
    {
     "ename": "FileNotFoundError",
     "evalue": "[WinError 2] Не удается найти указанный файл",
     "output_type": "error",
     "traceback": [
      "\u001b[1;31m---------------------------------------------------------------------------\u001b[0m",
      "\u001b[1;31mFileNotFoundError\u001b[0m                         Traceback (most recent call last)",
      "\u001b[1;32m<timed exec>\u001b[0m in \u001b[0;36m<module>\u001b[1;34m\u001b[0m\n",
      "\u001b[1;32me:\\bioinf\\nuclreceptors_project_1st_term\\descriptors\\src\\biodescriptors\\calc\\calc_all.py\u001b[0m in \u001b[0;36mcalc_all\u001b[1;34m(filedir, clamp_resid, ref, dssp, prot_hel_dist, pairwise_sep_dist, com_calpha_angles, len_of_hel, angles_between_hel, com_clamp, charge_clamp_dist, charge_clamp_angles, acc_per_hel, dssp_hel, sse_content, dssp_extra, save_to_csv, output_full_path)\u001b[0m\n\u001b[0;32m    196\u001b[0m                                                     \u001b[0mdssp_hel\u001b[0m\u001b[1;33m=\u001b[0m\u001b[0mdssp_hel\u001b[0m\u001b[1;33m,\u001b[0m\u001b[1;33m\u001b[0m\u001b[1;33m\u001b[0m\u001b[0m\n\u001b[0;32m    197\u001b[0m                                                     \u001b[0msse_content\u001b[0m\u001b[1;33m=\u001b[0m\u001b[0msse_content\u001b[0m\u001b[1;33m,\u001b[0m\u001b[1;33m\u001b[0m\u001b[1;33m\u001b[0m\u001b[0m\n\u001b[1;32m--> 198\u001b[1;33m                                                     dssp_extra=dssp_extra))\n\u001b[0m\u001b[0;32m    199\u001b[0m         \u001b[0mcounter\u001b[0m \u001b[1;33m+=\u001b[0m \u001b[1;36m1\u001b[0m\u001b[1;33m\u001b[0m\u001b[1;33m\u001b[0m\u001b[0m\n\u001b[0;32m    200\u001b[0m     \u001b[0mfinal_df\u001b[0m \u001b[1;33m=\u001b[0m \u001b[0mfinal_df\u001b[0m\u001b[1;33m.\u001b[0m\u001b[0mreset_index\u001b[0m\u001b[1;33m(\u001b[0m\u001b[1;33m)\u001b[0m\u001b[1;33m.\u001b[0m\u001b[0mdrop\u001b[0m\u001b[1;33m(\u001b[0m\u001b[0mcolumns\u001b[0m\u001b[1;33m=\u001b[0m\u001b[1;33m[\u001b[0m\u001b[1;34m'index'\u001b[0m\u001b[1;33m]\u001b[0m\u001b[1;33m)\u001b[0m\u001b[1;33m\u001b[0m\u001b[1;33m\u001b[0m\u001b[0m\n",
      "\u001b[1;32me:\\bioinf\\nuclreceptors_project_1st_term\\descriptors\\src\\biodescriptors\\calc\\calc_all.py\u001b[0m in \u001b[0;36mcalc_single_file\u001b[1;34m(filename, clamp_resid, ref, dssp, prot_hel_dist, pairwise_sep_dist, com_calpha_angles, len_of_hel, angles_between_hel, com_clamp, charge_clamp_dist, charge_clamp_angles, acc_per_hel, dssp_hel, sse_content, dssp_extra)\u001b[0m\n\u001b[0;32m     91\u001b[0m     \u001b[1;32mif\u001b[0m \u001b[0mdssp\u001b[0m\u001b[1;33m:\u001b[0m\u001b[1;33m\u001b[0m\u001b[1;33m\u001b[0m\u001b[0m\n\u001b[0;32m     92\u001b[0m         \u001b[1;32mif\u001b[0m \u001b[0macc_per_hel\u001b[0m\u001b[1;33m:\u001b[0m\u001b[1;33m\u001b[0m\u001b[1;33m\u001b[0m\u001b[0m\n\u001b[1;32m---> 93\u001b[1;33m             \u001b[0mdescriptors_frames_list\u001b[0m\u001b[1;33m.\u001b[0m\u001b[0mappend\u001b[0m\u001b[1;33m(\u001b[0m\u001b[0mcalc\u001b[0m\u001b[1;33m.\u001b[0m\u001b[0macc_per_hel_to_pandas\u001b[0m\u001b[1;33m(\u001b[0m\u001b[0mfilename\u001b[0m\u001b[1;33m,\u001b[0m \u001b[0mref\u001b[0m\u001b[1;33m,\u001b[0m \u001b[0mbase_filename\u001b[0m\u001b[1;33m)\u001b[0m\u001b[1;33m)\u001b[0m\u001b[1;33m\u001b[0m\u001b[1;33m\u001b[0m\u001b[0m\n\u001b[0m\u001b[0;32m     94\u001b[0m         \u001b[1;32mif\u001b[0m \u001b[0mdssp_hel\u001b[0m\u001b[1;33m:\u001b[0m\u001b[1;33m\u001b[0m\u001b[1;33m\u001b[0m\u001b[0m\n\u001b[0;32m     95\u001b[0m             \u001b[0mdescriptors_frames_list\u001b[0m\u001b[1;33m.\u001b[0m\u001b[0mappend\u001b[0m\u001b[1;33m(\u001b[0m\u001b[0mcalc\u001b[0m\u001b[1;33m.\u001b[0m\u001b[0mdssp_hel_to_pandas\u001b[0m\u001b[1;33m(\u001b[0m\u001b[0mfilename\u001b[0m\u001b[1;33m,\u001b[0m \u001b[0mref\u001b[0m\u001b[1;33m,\u001b[0m \u001b[0mbase_filename\u001b[0m\u001b[1;33m)\u001b[0m\u001b[1;33m)\u001b[0m\u001b[1;33m\u001b[0m\u001b[1;33m\u001b[0m\u001b[0m\n",
      "\u001b[1;32me:\\bioinf\\nuclreceptors_project_1st_term\\descriptors\\src\\biodescriptors\\calc\\calc_acc_per_hel.py\u001b[0m in \u001b[0;36macc_per_hel_to_pandas\u001b[1;34m(pdb_file, ref, protein_name)\u001b[0m\n\u001b[0;32m     87\u001b[0m     \u001b[0macc_hels\u001b[0m \u001b[1;33m=\u001b[0m \u001b[1;32mNone\u001b[0m\u001b[1;33m\u001b[0m\u001b[1;33m\u001b[0m\u001b[0m\n\u001b[0;32m     88\u001b[0m     \u001b[1;32mtry\u001b[0m\u001b[1;33m:\u001b[0m\u001b[1;33m\u001b[0m\u001b[1;33m\u001b[0m\u001b[0m\n\u001b[1;32m---> 89\u001b[1;33m         \u001b[0macc_hels\u001b[0m \u001b[1;33m=\u001b[0m \u001b[0mcalc_acc_per_hel\u001b[0m\u001b[1;33m(\u001b[0m\u001b[0mpdb_file\u001b[0m\u001b[1;33m,\u001b[0m \u001b[0mref\u001b[0m\u001b[1;33m)\u001b[0m\u001b[1;33m\u001b[0m\u001b[1;33m\u001b[0m\u001b[0m\n\u001b[0m\u001b[0;32m     90\u001b[0m     \u001b[1;32mexcept\u001b[0m \u001b[0mKeyError\u001b[0m\u001b[1;33m:\u001b[0m\u001b[1;33m\u001b[0m\u001b[1;33m\u001b[0m\u001b[0m\n\u001b[0;32m     91\u001b[0m         \u001b[1;32mpass\u001b[0m\u001b[1;33m\u001b[0m\u001b[1;33m\u001b[0m\u001b[0m\n",
      "\u001b[1;32me:\\bioinf\\nuclreceptors_project_1st_term\\descriptors\\src\\biodescriptors\\calc\\calc_acc_per_hel.py\u001b[0m in \u001b[0;36mcalc_acc_per_hel\u001b[1;34m(pdb_file, ref)\u001b[0m\n\u001b[0;32m     61\u001b[0m \u001b[1;33m\u001b[0m\u001b[0m\n\u001b[0;32m     62\u001b[0m     \u001b[0m_\u001b[0m\u001b[1;33m,\u001b[0m \u001b[0m_\u001b[0m\u001b[1;33m,\u001b[0m \u001b[0mmodel\u001b[0m\u001b[1;33m,\u001b[0m \u001b[0m_\u001b[0m\u001b[1;33m,\u001b[0m \u001b[0m_\u001b[0m \u001b[1;33m=\u001b[0m \u001b[0mutils\u001b[0m\u001b[1;33m.\u001b[0m\u001b[0mget_model_and_structure\u001b[0m\u001b[1;33m(\u001b[0m\u001b[0mpdb_file\u001b[0m\u001b[1;33m)\u001b[0m\u001b[1;33m\u001b[0m\u001b[1;33m\u001b[0m\u001b[0m\n\u001b[1;32m---> 63\u001b[1;33m     \u001b[0mdssp\u001b[0m \u001b[1;33m=\u001b[0m \u001b[0mPDB\u001b[0m\u001b[1;33m.\u001b[0m\u001b[0mDSSP\u001b[0m\u001b[1;33m(\u001b[0m\u001b[0mmodel\u001b[0m\u001b[1;33m,\u001b[0m \u001b[0mpdb_file\u001b[0m\u001b[1;33m)\u001b[0m\u001b[1;33m\u001b[0m\u001b[1;33m\u001b[0m\u001b[0m\n\u001b[0m\u001b[0;32m     64\u001b[0m     \u001b[1;32mreturn\u001b[0m \u001b[0m_calc_acc_per_hel\u001b[0m\u001b[1;33m(\u001b[0m\u001b[0mdssp\u001b[0m\u001b[1;33m,\u001b[0m \u001b[0mref\u001b[0m\u001b[1;33m)\u001b[0m\u001b[1;33m\u001b[0m\u001b[1;33m\u001b[0m\u001b[0m\n\u001b[0;32m     65\u001b[0m \u001b[1;33m\u001b[0m\u001b[0m\n",
      "\u001b[1;32mE:\\apps\\anaconda\\lib\\site-packages\\Bio\\PDB\\DSSP.py\u001b[0m in \u001b[0;36m__init__\u001b[1;34m(self, model, in_file, dssp, acc_array, file_type)\u001b[0m\n\u001b[0;32m    444\u001b[0m                 \u001b[1;32melse\u001b[0m\u001b[1;33m:\u001b[0m\u001b[1;33m\u001b[0m\u001b[1;33m\u001b[0m\u001b[0m\n\u001b[0;32m    445\u001b[0m                     \u001b[1;32mraise\u001b[0m\u001b[1;33m\u001b[0m\u001b[1;33m\u001b[0m\u001b[0m\n\u001b[1;32m--> 446\u001b[1;33m             \u001b[0mdssp_dict\u001b[0m\u001b[1;33m,\u001b[0m \u001b[0mdssp_keys\u001b[0m \u001b[1;33m=\u001b[0m \u001b[0mdssp_dict_from_pdb_file\u001b[0m\u001b[1;33m(\u001b[0m\u001b[0min_file\u001b[0m\u001b[1;33m,\u001b[0m \u001b[0mdssp\u001b[0m\u001b[1;33m)\u001b[0m\u001b[1;33m\u001b[0m\u001b[1;33m\u001b[0m\u001b[0m\n\u001b[0m\u001b[0;32m    447\u001b[0m         \u001b[1;31m# If the input file is a DSSP file just parse it directly:\u001b[0m\u001b[1;33m\u001b[0m\u001b[1;33m\u001b[0m\u001b[1;33m\u001b[0m\u001b[0m\n\u001b[0;32m    448\u001b[0m         \u001b[1;32melif\u001b[0m \u001b[0mfile_type\u001b[0m \u001b[1;33m==\u001b[0m \u001b[1;34m\"DSSP\"\u001b[0m\u001b[1;33m:\u001b[0m\u001b[1;33m\u001b[0m\u001b[1;33m\u001b[0m\u001b[0m\n",
      "\u001b[1;32mE:\\apps\\anaconda\\lib\\site-packages\\Bio\\PDB\\DSSP.py\u001b[0m in \u001b[0;36mdssp_dict_from_pdb_file\u001b[1;34m(in_file, DSSP)\u001b[0m\n\u001b[0;32m    235\u001b[0m             \u001b[0muniversal_newlines\u001b[0m\u001b[1;33m=\u001b[0m\u001b[1;32mTrue\u001b[0m\u001b[1;33m,\u001b[0m\u001b[1;33m\u001b[0m\u001b[1;33m\u001b[0m\u001b[0m\n\u001b[0;32m    236\u001b[0m             \u001b[0mstdout\u001b[0m\u001b[1;33m=\u001b[0m\u001b[0msubprocess\u001b[0m\u001b[1;33m.\u001b[0m\u001b[0mPIPE\u001b[0m\u001b[1;33m,\u001b[0m\u001b[1;33m\u001b[0m\u001b[1;33m\u001b[0m\u001b[0m\n\u001b[1;32m--> 237\u001b[1;33m             \u001b[0mstderr\u001b[0m\u001b[1;33m=\u001b[0m\u001b[0msubprocess\u001b[0m\u001b[1;33m.\u001b[0m\u001b[0mPIPE\u001b[0m\u001b[1;33m,\u001b[0m\u001b[1;33m\u001b[0m\u001b[1;33m\u001b[0m\u001b[0m\n\u001b[0m\u001b[0;32m    238\u001b[0m         )\n\u001b[0;32m    239\u001b[0m     \u001b[1;32mexcept\u001b[0m \u001b[0mFileNotFoundError\u001b[0m\u001b[1;33m:\u001b[0m\u001b[1;33m\u001b[0m\u001b[1;33m\u001b[0m\u001b[0m\n",
      "\u001b[1;32mE:\\apps\\anaconda\\lib\\subprocess.py\u001b[0m in \u001b[0;36m__init__\u001b[1;34m(self, args, bufsize, executable, stdin, stdout, stderr, preexec_fn, close_fds, shell, cwd, env, universal_newlines, startupinfo, creationflags, restore_signals, start_new_session, pass_fds, encoding, errors, text)\u001b[0m\n\u001b[0;32m    798\u001b[0m                                 \u001b[0mc2pread\u001b[0m\u001b[1;33m,\u001b[0m \u001b[0mc2pwrite\u001b[0m\u001b[1;33m,\u001b[0m\u001b[1;33m\u001b[0m\u001b[1;33m\u001b[0m\u001b[0m\n\u001b[0;32m    799\u001b[0m                                 \u001b[0merrread\u001b[0m\u001b[1;33m,\u001b[0m \u001b[0merrwrite\u001b[0m\u001b[1;33m,\u001b[0m\u001b[1;33m\u001b[0m\u001b[1;33m\u001b[0m\u001b[0m\n\u001b[1;32m--> 800\u001b[1;33m                                 restore_signals, start_new_session)\n\u001b[0m\u001b[0;32m    801\u001b[0m         \u001b[1;32mexcept\u001b[0m\u001b[1;33m:\u001b[0m\u001b[1;33m\u001b[0m\u001b[1;33m\u001b[0m\u001b[0m\n\u001b[0;32m    802\u001b[0m             \u001b[1;31m# Cleanup if the child failed starting.\u001b[0m\u001b[1;33m\u001b[0m\u001b[1;33m\u001b[0m\u001b[1;33m\u001b[0m\u001b[0m\n",
      "\u001b[1;32mE:\\apps\\anaconda\\lib\\subprocess.py\u001b[0m in \u001b[0;36m_execute_child\u001b[1;34m(self, args, executable, preexec_fn, close_fds, pass_fds, cwd, env, startupinfo, creationflags, shell, p2cread, p2cwrite, c2pread, c2pwrite, errread, errwrite, unused_restore_signals, unused_start_new_session)\u001b[0m\n\u001b[0;32m   1205\u001b[0m                                          \u001b[0menv\u001b[0m\u001b[1;33m,\u001b[0m\u001b[1;33m\u001b[0m\u001b[1;33m\u001b[0m\u001b[0m\n\u001b[0;32m   1206\u001b[0m                                          \u001b[0mos\u001b[0m\u001b[1;33m.\u001b[0m\u001b[0mfspath\u001b[0m\u001b[1;33m(\u001b[0m\u001b[0mcwd\u001b[0m\u001b[1;33m)\u001b[0m \u001b[1;32mif\u001b[0m \u001b[0mcwd\u001b[0m \u001b[1;32mis\u001b[0m \u001b[1;32mnot\u001b[0m \u001b[1;32mNone\u001b[0m \u001b[1;32melse\u001b[0m \u001b[1;32mNone\u001b[0m\u001b[1;33m,\u001b[0m\u001b[1;33m\u001b[0m\u001b[1;33m\u001b[0m\u001b[0m\n\u001b[1;32m-> 1207\u001b[1;33m                                          startupinfo)\n\u001b[0m\u001b[0;32m   1208\u001b[0m             \u001b[1;32mfinally\u001b[0m\u001b[1;33m:\u001b[0m\u001b[1;33m\u001b[0m\u001b[1;33m\u001b[0m\u001b[0m\n\u001b[0;32m   1209\u001b[0m                 \u001b[1;31m# Child is launched. Close the parent's copy of those pipe\u001b[0m\u001b[1;33m\u001b[0m\u001b[1;33m\u001b[0m\u001b[1;33m\u001b[0m\u001b[0m\n",
      "\u001b[1;31mFileNotFoundError\u001b[0m: [WinError 2] Не удается найти указанный файл"
     ]
    }
   ],
   "source": [
    "%%time\n",
    "df_final = biodescriptors.calc.calc_all(filedir, clamp_resid, href, save_to_csv=True, output_full_path=output_filename)"
   ]
  },
  {
   "cell_type": "code",
   "execution_count": 13,
   "id": "65d1d59e",
   "metadata": {},
   "outputs": [
    {
     "data": {
      "text/html": [
       "<div>\n",
       "<style scoped>\n",
       "    .dataframe tbody tr th:only-of-type {\n",
       "        vertical-align: middle;\n",
       "    }\n",
       "\n",
       "    .dataframe tbody tr th {\n",
       "        vertical-align: top;\n",
       "    }\n",
       "\n",
       "    .dataframe thead th {\n",
       "        text-align: right;\n",
       "    }\n",
       "</style>\n",
       "<table border=\"1\" class=\"dataframe\">\n",
       "  <thead>\n",
       "    <tr style=\"text-align: right;\">\n",
       "      <th></th>\n",
       "      <th>prot_name</th>\n",
       "      <th>Dist prot-H1</th>\n",
       "      <th>Dist prot-H2</th>\n",
       "      <th>Dist prot-H3</th>\n",
       "      <th>Dist prot-H4</th>\n",
       "      <th>Dist prot-H5</th>\n",
       "      <th>Dist prot-H6</th>\n",
       "      <th>Dist prot-H7</th>\n",
       "      <th>Dist prot-H8</th>\n",
       "      <th>Dist prot-H9</th>\n",
       "      <th>...</th>\n",
       "      <th>DSSP end_H12</th>\n",
       "      <th>DSSP end_H13</th>\n",
       "      <th>SSE Helix</th>\n",
       "      <th>SSE Beta bridge</th>\n",
       "      <th>SSE Strand</th>\n",
       "      <th>SSE Helix-3</th>\n",
       "      <th>SSE Helix-5</th>\n",
       "      <th>SSE Turn</th>\n",
       "      <th>SSE Bend</th>\n",
       "      <th>SSE Other</th>\n",
       "    </tr>\n",
       "  </thead>\n",
       "  <tbody>\n",
       "    <tr>\n",
       "      <th>0</th>\n",
       "      <td>TX-PGC1-L3-auto_0.pdb</td>\n",
       "      <td>17.577474</td>\n",
       "      <td>19.254317</td>\n",
       "      <td>8.821219</td>\n",
       "      <td>17.643768</td>\n",
       "      <td>4.770519</td>\n",
       "      <td>20.394447</td>\n",
       "      <td>15.734116</td>\n",
       "      <td>11.140125</td>\n",
       "      <td>21.329677</td>\n",
       "      <td>...</td>\n",
       "      <td>418</td>\n",
       "      <td>421</td>\n",
       "      <td>55.677656</td>\n",
       "      <td>0.0</td>\n",
       "      <td>2.564103</td>\n",
       "      <td>5.494505</td>\n",
       "      <td>0.0</td>\n",
       "      <td>12.454212</td>\n",
       "      <td>7.692308</td>\n",
       "      <td>16.117216</td>\n",
       "    </tr>\n",
       "    <tr>\n",
       "      <th>1</th>\n",
       "      <td>TX-PGC1-L3-auto_1.pdb</td>\n",
       "      <td>17.629041</td>\n",
       "      <td>19.198641</td>\n",
       "      <td>8.750823</td>\n",
       "      <td>17.599245</td>\n",
       "      <td>4.714666</td>\n",
       "      <td>21.074910</td>\n",
       "      <td>15.659704</td>\n",
       "      <td>11.008578</td>\n",
       "      <td>21.882887</td>\n",
       "      <td>...</td>\n",
       "      <td>0</td>\n",
       "      <td>0</td>\n",
       "      <td>53.113553</td>\n",
       "      <td>0.0</td>\n",
       "      <td>2.564103</td>\n",
       "      <td>6.227106</td>\n",
       "      <td>0.0</td>\n",
       "      <td>15.750916</td>\n",
       "      <td>7.326007</td>\n",
       "      <td>15.018315</td>\n",
       "    </tr>\n",
       "    <tr>\n",
       "      <th>2</th>\n",
       "      <td>TX-PGC1-L3-auto_10.pdb</td>\n",
       "      <td>17.784991</td>\n",
       "      <td>19.971850</td>\n",
       "      <td>8.956559</td>\n",
       "      <td>16.855837</td>\n",
       "      <td>5.175343</td>\n",
       "      <td>21.154648</td>\n",
       "      <td>16.253411</td>\n",
       "      <td>10.961085</td>\n",
       "      <td>21.545229</td>\n",
       "      <td>...</td>\n",
       "      <td>416</td>\n",
       "      <td>421</td>\n",
       "      <td>56.043956</td>\n",
       "      <td>0.0</td>\n",
       "      <td>2.930403</td>\n",
       "      <td>7.326007</td>\n",
       "      <td>0.0</td>\n",
       "      <td>11.355311</td>\n",
       "      <td>6.593407</td>\n",
       "      <td>15.750916</td>\n",
       "    </tr>\n",
       "    <tr>\n",
       "      <th>3</th>\n",
       "      <td>TX-PGC1-L3-auto_100.pdb</td>\n",
       "      <td>17.437419</td>\n",
       "      <td>19.054584</td>\n",
       "      <td>9.546895</td>\n",
       "      <td>16.912886</td>\n",
       "      <td>4.634557</td>\n",
       "      <td>20.938353</td>\n",
       "      <td>15.911956</td>\n",
       "      <td>10.411964</td>\n",
       "      <td>20.727360</td>\n",
       "      <td>...</td>\n",
       "      <td>416</td>\n",
       "      <td>421</td>\n",
       "      <td>55.677656</td>\n",
       "      <td>0.0</td>\n",
       "      <td>2.564103</td>\n",
       "      <td>4.395604</td>\n",
       "      <td>0.0</td>\n",
       "      <td>14.285714</td>\n",
       "      <td>7.692308</td>\n",
       "      <td>15.384615</td>\n",
       "    </tr>\n",
       "    <tr>\n",
       "      <th>4</th>\n",
       "      <td>TX-PGC1-L3-auto_11.pdb</td>\n",
       "      <td>18.272128</td>\n",
       "      <td>19.374784</td>\n",
       "      <td>9.107679</td>\n",
       "      <td>16.969807</td>\n",
       "      <td>5.038555</td>\n",
       "      <td>21.366447</td>\n",
       "      <td>15.548858</td>\n",
       "      <td>11.011326</td>\n",
       "      <td>21.543426</td>\n",
       "      <td>...</td>\n",
       "      <td>416</td>\n",
       "      <td>421</td>\n",
       "      <td>54.578755</td>\n",
       "      <td>0.0</td>\n",
       "      <td>2.564103</td>\n",
       "      <td>4.395604</td>\n",
       "      <td>0.0</td>\n",
       "      <td>15.750916</td>\n",
       "      <td>5.860806</td>\n",
       "      <td>16.849817</td>\n",
       "    </tr>\n",
       "  </tbody>\n",
       "</table>\n",
       "<p>5 rows × 253 columns</p>\n",
       "</div>"
      ],
      "text/plain": [
       "                 prot_name  Dist prot-H1  Dist prot-H2  Dist prot-H3  \\\n",
       "0    TX-PGC1-L3-auto_0.pdb     17.577474     19.254317      8.821219   \n",
       "1    TX-PGC1-L3-auto_1.pdb     17.629041     19.198641      8.750823   \n",
       "2   TX-PGC1-L3-auto_10.pdb     17.784991     19.971850      8.956559   \n",
       "3  TX-PGC1-L3-auto_100.pdb     17.437419     19.054584      9.546895   \n",
       "4   TX-PGC1-L3-auto_11.pdb     18.272128     19.374784      9.107679   \n",
       "\n",
       "   Dist prot-H4  Dist prot-H5  Dist prot-H6  Dist prot-H7  Dist prot-H8  \\\n",
       "0     17.643768      4.770519     20.394447     15.734116     11.140125   \n",
       "1     17.599245      4.714666     21.074910     15.659704     11.008578   \n",
       "2     16.855837      5.175343     21.154648     16.253411     10.961085   \n",
       "3     16.912886      4.634557     20.938353     15.911956     10.411964   \n",
       "4     16.969807      5.038555     21.366447     15.548858     11.011326   \n",
       "\n",
       "   Dist prot-H9  ...  DSSP end_H12  DSSP end_H13  SSE Helix  SSE Beta bridge  \\\n",
       "0     21.329677  ...           418           421  55.677656              0.0   \n",
       "1     21.882887  ...             0             0  53.113553              0.0   \n",
       "2     21.545229  ...           416           421  56.043956              0.0   \n",
       "3     20.727360  ...           416           421  55.677656              0.0   \n",
       "4     21.543426  ...           416           421  54.578755              0.0   \n",
       "\n",
       "   SSE Strand  SSE Helix-3  SSE Helix-5   SSE Turn  SSE Bend  SSE Other  \n",
       "0    2.564103     5.494505          0.0  12.454212  7.692308  16.117216  \n",
       "1    2.564103     6.227106          0.0  15.750916  7.326007  15.018315  \n",
       "2    2.930403     7.326007          0.0  11.355311  6.593407  15.750916  \n",
       "3    2.564103     4.395604          0.0  14.285714  7.692308  15.384615  \n",
       "4    2.564103     4.395604          0.0  15.750916  5.860806  16.849817  \n",
       "\n",
       "[5 rows x 253 columns]"
      ]
     },
     "execution_count": 13,
     "metadata": {},
     "output_type": "execute_result"
    }
   ],
   "source": [
    "df_final.head()"
   ]
  },
  {
   "cell_type": "code",
   "execution_count": null,
   "id": "cd50ee0f",
   "metadata": {},
   "outputs": [],
   "source": []
  }
 ],
 "metadata": {
  "kernelspec": {
   "display_name": "Python 3 (ipykernel)",
   "language": "python",
   "name": "python3"
  },
  "language_info": {
   "codemirror_mode": {
    "name": "ipython",
    "version": 3
   },
   "file_extension": ".py",
   "mimetype": "text/x-python",
   "name": "python",
   "nbconvert_exporter": "python",
   "pygments_lexer": "ipython3",
   "version": "3.7.6"
  }
 },
 "nbformat": 4,
 "nbformat_minor": 5
}
